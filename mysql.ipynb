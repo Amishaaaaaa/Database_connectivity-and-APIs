{
 "cells": [
  {
   "cell_type": "code",
   "execution_count": null,
   "id": "189d735c-9383-4289-b426-8d870152e257",
   "metadata": {},
   "outputs": [],
   "source": [
    "# Q1. What is a database? Differentiate between SQL and NoSQL databases.\n",
    "\n",
    "'''\n",
    "A database is a structured collection of data that is organized and stored for efficient retrieval, manipulation, and management. It is designed to provide a way to store, manage, \n",
    "and retrieve large amounts of data easily.\n",
    "\n",
    "SQL (Structured Query Language) and NoSQL (Not only SQL) are two different types of database management systems (DBMS) that differ in their data models, query languages, and underlying\n",
    "principles.\n",
    "\n",
    "SQL Databases:\n",
    "structured or tabular data model\n",
    "uses sql query as standard\n",
    "rigid structure and constraints must be fulfilled when a particular data is entered\n",
    "ACID transactions\n",
    "scalable\n",
    "\n",
    "NoSQL Databases:\n",
    "flexible and allows un-structured or semi structured data storage\n",
    "different query language based on type of database\n",
    "no fixed constraints or structure as such\n",
    "eventual consistency\n",
    "scalable\n",
    "\n",
    "'''"
   ]
  },
  {
   "cell_type": "code",
   "execution_count": null,
   "id": "ae9c16ff-54cb-4c94-8d93-bbe5c663eab8",
   "metadata": {},
   "outputs": [],
   "source": [
    "'''\n",
    "Q2. What is DDL? Explain why CREATE, DROP, ALTER, and TRUNCATE are used with an example.\n",
    "'''\n",
    "\n",
    "'''\n",
    "DDL is Data Definition language which is used to create, alter or delete the structure of the table.\n",
    "\n",
    "CREATE: used to create table\n",
    "DROP: used to delete table permanently with its data.\n",
    "ALTER: alter is used to alter the columns, constraints or other attributes of table.\n",
    "TRUNCATE: used to remove all data from the table while preserving the table structure.\n",
    "'''"
   ]
  },
  {
   "cell_type": "code",
   "execution_count": null,
   "id": "1259f172-55c6-4abf-9622-0c86fb562813",
   "metadata": {},
   "outputs": [],
   "source": [
    "'''\n",
    "Q3. What is DML? Explain INSERT, UPDATE, and DELETE with an example.\n",
    "'''\n",
    "'''\n",
    "DML is Data Manipulation Language.\n",
    "used for managing and manipulating data within a database.\n",
    "\n",
    "Insert: add new records or rows in table.\n",
    "\n",
    "Update: modify existing record.\n",
    "\n",
    "Delete: used to delete records from table.\n",
    "'''"
   ]
  },
  {
   "cell_type": "code",
   "execution_count": null,
   "id": "d78d0f1e-0e03-4393-b0b6-6be1c7b56672",
   "metadata": {},
   "outputs": [],
   "source": [
    "#Q4. What is DQL? Explain SELECT with an example.\n",
    "\n",
    "'''\n",
    "Data Query Language\n",
    "used for querying and retrieving data from the database.\n",
    "consists of select statement.\n",
    "\n",
    "\n",
    "SELECT Name, Age FROM Students WHERE Grade = 10;\n",
    "'''"
   ]
  },
  {
   "cell_type": "code",
   "execution_count": null,
   "id": "a6f381f1-07a1-43a1-a73c-6ba3e341a036",
   "metadata": {},
   "outputs": [],
   "source": [
    "#Q5. Explain Primary Key and Foreign Key.\n",
    "'''\n",
    "A primary key is a column or a set of columns in a database table that uniquely identifies each record or row in that table. It serves as a unique identifier.\n",
    "\n",
    "\n",
    "A foreign key is a column or a set of columns in a database table that establishes a relationship between two tables. It refers to the primary key of another table and represents the \n",
    "\"foreign\" end of the relationship. The foreign key constraint ensures referential integrity, meaning it enforces that the values in the foreign key column(s) of one table correspond \n",
    "to the values in the primary key column(s) of another table.\n",
    "'''"
   ]
  },
  {
   "cell_type": "code",
   "execution_count": null,
   "id": "852f7fbd-6126-478c-8bb8-0135b1d8cb19",
   "metadata": {},
   "outputs": [],
   "source": [
    "#Q6. Write a python code to connect MySQL to python. Explain the cursor() and execute() method.\n",
    "'''\n",
    "import mysql.connector\n",
    "mydb=mysql.connector.connect(\n",
    "    host=\"localhost\",\n",
    "    user=\"abc\",\n",
    "    password=\"password\"\n",
    ")\n",
    "\n",
    "mycursor=mydb.cursor()\n",
    "mycursor.execute(\"Show databases\")\n",
    "for x in mycursor:\n",
    "    print(x)\n",
    "mydb.commit()\n",
    "mydb.close()\n",
    "'''\n",
    "'''\n",
    "cursor(): The cursor() method creates a cursor object that allows you to execute SQL queries and fetch data from the result set. The cursor acts as a handle for interacting with the \n",
    "database.\n",
    "\n",
    "execute(): The execute() method is used to execute an SQL query or command. You pass the query as a string parameter to the execute() method. It can be a SELECT, INSERT, UPDATE, DELETE,\n",
    "or any other SQL statement. The execute() method performs the query on the MySQL database.\n",
    "'''"
   ]
  },
  {
   "cell_type": "code",
   "execution_count": null,
   "id": "5fb29c1c-f50a-4a34-8d23-a560bcb51f08",
   "metadata": {},
   "outputs": [],
   "source": [
    "#Q7. Give the order of execution of SQL clauses in an SQL query.\n",
    "\n",
    "'''\n",
    "SELECT\n",
    "FROM\n",
    "JOIN\n",
    "WHERE\n",
    "GROUP BY\n",
    "HAVING\n",
    "ORDER BY\n",
    "LIMIT/OFFSET\n",
    "'''"
   ]
  },
  {
   "cell_type": "code",
   "execution_count": null,
   "id": "12290fe6-ab3a-47df-8dce-562407ae3244",
   "metadata": {},
   "outputs": [],
   "source": []
  }
 ],
 "metadata": {
  "kernelspec": {
   "display_name": "Python 3 (ipykernel)",
   "language": "python",
   "name": "python3"
  },
  "language_info": {
   "codemirror_mode": {
    "name": "ipython",
    "version": 3
   },
   "file_extension": ".py",
   "mimetype": "text/x-python",
   "name": "python",
   "nbconvert_exporter": "python",
   "pygments_lexer": "ipython3",
   "version": "3.10.8"
  }
 },
 "nbformat": 4,
 "nbformat_minor": 5
}
